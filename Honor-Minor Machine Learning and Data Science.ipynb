{
 "cells": [
  {
   "cell_type": "markdown",
   "id": "cee72c68",
   "metadata": {},
   "source": [
    "<center><h1>Honors/Minors Degree Program</h1></center>"
   ]
  },
  {
   "cell_type": "markdown",
   "id": "8ead30f5",
   "metadata": {},
   "source": [
    "<center><h3>Machine Learning and Data Science(410501)</h3></center>"
   ]
  },
  {
   "cell_type": "markdown",
   "id": "c53e6042",
   "metadata": {},
   "source": [
    "|Teaching Scheme|Credit Scheme|Examination Scheme|Marks|\n",
    "|:---:|:---:|:---:|:---:|\n",
    "|04 Hrs/Week|04| In Sem| 30 Marks|\n",
    "| | | End Sem| 70 Marks|\n"
   ]
  },
  {
   "cell_type": "markdown",
   "id": "8fb589e3",
   "metadata": {},
   "source": [
    "<h4>Prerequisites: Data Science and Visualization, Statistic and Machine Learning</h4>"
   ]
  },
  {
   "cell_type": "markdown",
   "id": "62129dc1",
   "metadata": {},
   "source": [
    "<h4>Compasion Course: Machine Learning and Data Sciecne Laboratory</h4>"
   ]
  },
  {
   "cell_type": "markdown",
   "id": "5c7a6846",
   "metadata": {},
   "source": [
    "<b>Course Objectives:</b>\n",
    "1. To understand and learn regression models, interpret estimates and diagnostic statistics\n",
    "2. To understand and learn different classification models and its algorithms\n",
    "3. To understand and learn clustering methods\n",
    "4. To generate an ability to build neural networks for solving real life problems.\n",
    "5. To acquire knowledge of Convolution Artificial Neural Networks , Recurrent network\n",
    "6. To apply analytics concept on text data"
   ]
  },
  {
   "cell_type": "markdown",
   "id": "97e62971",
   "metadata": {},
   "source": [
    "<b>Course Outcomes:</b>\n",
    "\n",
    "On completion of the course, learner will be able to–\n",
    "1. Apply, build and fit regression models for real time problems\n",
    "2. Apply and build classification models using SVM and random forest classifiers\n",
    "3. Apply and build clustering models using clustering methods and its corresponding algorithms\n",
    "4. Design and development of certain scientific and commercial application using computational neural network models,\n",
    "5. Apply text classification and topic modelling methods to solve given problem"
   ]
  },
  {
   "cell_type": "markdown",
   "id": "5da734d1",
   "metadata": {},
   "source": [
    "<h3> Syllabus</h3>"
   ]
  },
  {
   "cell_type": "markdown",
   "id": "53c3685f",
   "metadata": {},
   "source": [
    "<h1><center>Unit-I</h1>"
   ]
  },
  {
   "cell_type": "markdown",
   "id": "7a465164",
   "metadata": {},
   "source": [
    "<center><h1>Regression Models</h1><center>"
   ]
  },
  {
   "cell_type": "markdown",
   "id": "01387403",
   "metadata": {},
   "source": [
    "<div style=\"text-align: justify\">\n",
    "Overview of statistical linear models, residuals, regression inference, Generalized linear models,\n",
    "logistic regression, Interpretation of odds and odds ratios, Maximum likelihood estimation in logistic\n",
    "regression, Poisson regression, Examples, Interpreting logistic regression, Visualizing fitting logistic\n",
    "regression curves.\n",
    "</div>    "
   ]
  },
  {
   "cell_type": "markdown",
   "id": "4bc227a4",
   "metadata": {},
   "source": [
    "<center><h1>Unit-II</h1></center>"
   ]
  },
  {
   "cell_type": "markdown",
   "id": "2b7e84b1",
   "metadata": {},
   "source": [
    "<h1><center> Classification Methods</center></h1>"
   ]
  },
  {
   "cell_type": "markdown",
   "id": "9c4ae104",
   "metadata": {},
   "source": [
    "<div style=\"text-align: justify\">\n",
    "Support Vector Machine classification algorithm, hyper plane, optimal separating hyperplanes , kernel\n",
    "functions, kernel selection, applications, Introduction to ensemble and its techniques, Bagging and\n",
    "Bootstrap ensemble methods, Introduction to random forest, growing of random forest, random feature\n",
    "selection\n",
    "</div>    "
   ]
  },
  {
   "cell_type": "markdown",
   "id": "cc3e708f",
   "metadata": {},
   "source": [
    "<h1><center> Unit-III</center></h1>"
   ]
  },
  {
   "cell_type": "markdown",
   "id": "5e9d2cda",
   "metadata": {},
   "source": [
    "<h1><center>Clustering Methods</center></h1>"
   ]
  },
  {
   "cell_type": "markdown",
   "id": "6ef317d0",
   "metadata": {},
   "source": [
    "<div style=\"text-align: justify\">\n",
    "Overview of clustering and unsupervised learning, Introduction to clustering methods :Partitioning\n",
    "methods K-Means algorithm, assessing quality and choose number of clusters, KNN (1 NN, K NN)\n",
    "techniques, K-Medians, Density based method: Density-Based Spatial Clustering. Hierarchical\n",
    "clustering methods: Agglomerative Hierarchical clustering technique, Roles of dendrograms and\n",
    "Choosing number clusters in Hierarchical clustering, Divisive clustering techniques\n",
    "</div>"
   ]
  },
  {
   "cell_type": "markdown",
   "id": "92a143ac",
   "metadata": {},
   "source": [
    "<h1><center>Unit-IV</center></h1>"
   ]
  },
  {
   "cell_type": "markdown",
   "id": "d4721d71",
   "metadata": {},
   "source": [
    "<h1><center>Artificial Neural Network</center></h1>"
   ]
  },
  {
   "cell_type": "markdown",
   "id": "467933e2",
   "metadata": {},
   "source": [
    "<div style=\"text-align: justify\">\n",
    "Biological neuron, models of a neuron, Introduction to Neural networks, network architectures (feed-\n",
    "forward, feedback etc.), Activation Functions\n",
    "Perceptron, Training a Perceptron, Multilayer Perceptrons, Back propagation Algorithm, Generalized\n",
    "Delta Learning Rule, Limitations of MLP\n",
    "</div>"
   ]
  },
  {
   "cell_type": "markdown",
   "id": "832eacaf",
   "metadata": {},
   "source": [
    "<h1><center> Unit-V</center></h1>"
   ]
  },
  {
   "cell_type": "markdown",
   "id": "e8510383",
   "metadata": {},
   "source": [
    "<h1><center>Convolutional Neural Network</center></h1>"
   ]
  },
  {
   "cell_type": "markdown",
   "id": "05935310",
   "metadata": {},
   "source": [
    "<div style=\"text-align: justify\">\n",
    "Convolutional Neural Network, Recursive Neural Network, Recurrent Neural Network, Long-short\n",
    "Term Memory, Gradient descent optimization\n",
    "</div>"
   ]
  },
  {
   "cell_type": "markdown",
   "id": "75affc51",
   "metadata": {},
   "source": [
    "<h1><center>Applications Perspective</center></h1>"
   ]
  },
  {
   "cell_type": "markdown",
   "id": "be5ce2fc",
   "metadata": {},
   "source": [
    "<div style=\"text-align: justify\">\n",
    "Text Preprocessing- tokenization, document representation, feature selection, feature extraction;\n",
    "Topic modeling algorithms-Latent Dirichlet Allocation;\n",
    "Text Similarity measure\n",
    "</div>"
   ]
  },
  {
   "cell_type": "markdown",
   "id": "90480175",
   "metadata": {},
   "source": [
    "<b>Text Books:</b>\n",
    "    \n",
    "1. Machine Learning by Tom M. Mitchell\n",
    "2. Douglas Montgomery, Elizabeth A. Peck, and G. Geoffrey Vining, “Introduction to Linear Regression Analysis”, 5th edition, Wiley publication.\n",
    "3. Data Clustering Algorithms and Applications By Charu C. Aggarwal, Chandan K. Reddy\n",
    "4. EthemAlpaydin: Introduction to Machine Learning, PHI 2 nd Edition-2013"
   ]
  },
  {
   "cell_type": "markdown",
   "id": "2c9f936b",
   "metadata": {},
   "source": [
    "<b>Reference Books:</b>\n",
    "    \n",
    "1. Hands-On Machine Learning with Scikit-Learn, Keras, and TensorFlow: Concepts, Tools, and Techniques to Build Intelligent Systems 2nd Edition\n",
    "2. B Yegnanarayana : Artificial Neural Networks for pattern recognition ,PHI Learning Pvt. Ltd., 14-Jan-2009\n",
    "3. Jack Zurada: Introduction to Artificial Neural Systems, PWS Publishing Co. Boston, 2002.\n",
    "4. Feldman, Ronen, and James Sanger, eds. The text mining handbook: advanced approaches in analyzing unstructured data. Cambridge University Press, 2007."
   ]
  },
  {
   "cell_type": "markdown",
   "id": "7e11fc98",
   "metadata": {},
   "source": [
    "<h1>Regression Models</h1>"
   ]
  },
  {
   "cell_type": "markdown",
   "id": "766c30d9",
   "metadata": {},
   "source": [
    "Main types of the regression are\n",
    "1. Linear Regression\n",
    "2. Logistic Regression "
   ]
  },
  {
   "cell_type": "markdown",
   "id": "065604bd",
   "metadata": {},
   "source": [
    "### Regression is about"
   ]
  },
  {
   "cell_type": "markdown",
   "id": "e4894bd7",
   "metadata": {},
   "source": [
    "<ol>\n",
    "<li>These are the data modelling technique</li>\n",
    "<li>There are many other types of the regresion models depends on nature of the data</li>\n",
    "<li>Its used to analyze the relation between target or depedant and indepedant variables in given dataset</li>\n",
    "<li>Use depends on, relation target and independent variables shows- linear or non-linear relationship</li>\n",
    "<li> Used mainly for predicting, forecasting </li>\n",
    "</ol>"
   ]
  },
  {
   "cell_type": "markdown",
   "id": "9a39d2aa",
   "metadata": {},
   "source": [
    "### Different Regression Techniques"
   ]
  },
  {
   "cell_type": "markdown",
   "id": "b04f952e",
   "metadata": {},
   "source": [
    "<ol>\n",
    "    <li>Linear Regression</li>\n",
    "    <li>Logistic Regression</li>\n",
    "    <li>Ridge Regression</li>\n",
    "    <li>Lasso Regression</li>\n",
    "    <li>Polynomial Regression</li>\n",
    "    <li>Bayesian Linear Regression</li>\n",
    "    \n",
    "\n",
    "</ol>"
   ]
  },
  {
   "cell_type": "markdown",
   "id": "597cfcfd",
   "metadata": {},
   "source": [
    " <h3>1. Linear Regression</h3>"
   ]
  },
  {
   "cell_type": "markdown",
   "id": "81fce20c",
   "metadata": {},
   "source": [
    "1. Most basic in Machine Learning\n",
    "2. Predictor and depedent variables\n",
    "3. $y=mx+c+e$\n",
    "\n",
    "where $m$ is the slope of the line, $c$ is an intercept, and $e$ represents the error in the model."
   ]
  },
  {
   "cell_type": "markdown",
   "id": "e262821b",
   "metadata": {},
   "source": [
    "1. The best fit line is determined by varying the values of $m$ and $c$.\n",
    "2. The predictor error is the difference between the observed values and the predicted value.\n",
    "3. The values of $m$ and $c$ get selected in such a way that it gives the minimum predictor error.\n",
    "4. It is important to note that a simple linear regression model is susceptible to outliers. Therefore, it should not be used in case of big size data.\n",
    "\n"
   ]
  },
  {
   "cell_type": "code",
   "execution_count": 39,
   "id": "390772ba",
   "metadata": {},
   "outputs": [],
   "source": [
    "import pandas as pd\n",
    "import seaborn as snb\n",
    "import numpy as np\n",
    "import matplotlib.pyplot as plt\n",
    "import numpy as np"
   ]
  },
  {
   "cell_type": "code",
   "execution_count": 21,
   "id": "629c994d",
   "metadata": {},
   "outputs": [],
   "source": [
    "df=pd.read_csv('/home/lucina/Documents/Home_Prices.csv')"
   ]
  },
  {
   "cell_type": "code",
   "execution_count": 22,
   "id": "e52aadc3",
   "metadata": {},
   "outputs": [
    {
     "data": {
      "text/html": [
       "<div>\n",
       "<style scoped>\n",
       "    .dataframe tbody tr th:only-of-type {\n",
       "        vertical-align: middle;\n",
       "    }\n",
       "\n",
       "    .dataframe tbody tr th {\n",
       "        vertical-align: top;\n",
       "    }\n",
       "\n",
       "    .dataframe thead th {\n",
       "        text-align: right;\n",
       "    }\n",
       "</style>\n",
       "<table border=\"1\" class=\"dataframe\">\n",
       "  <thead>\n",
       "    <tr style=\"text-align: right;\">\n",
       "      <th></th>\n",
       "      <th>Area</th>\n",
       "      <th>Bedrooms</th>\n",
       "      <th>Age</th>\n",
       "      <th>Price</th>\n",
       "    </tr>\n",
       "  </thead>\n",
       "  <tbody>\n",
       "    <tr>\n",
       "      <th>0</th>\n",
       "      <td>2000</td>\n",
       "      <td>2.0</td>\n",
       "      <td>16</td>\n",
       "      <td>2300000</td>\n",
       "    </tr>\n",
       "    <tr>\n",
       "      <th>1</th>\n",
       "      <td>2500</td>\n",
       "      <td>3.0</td>\n",
       "      <td>18</td>\n",
       "      <td>3300000</td>\n",
       "    </tr>\n",
       "    <tr>\n",
       "      <th>2</th>\n",
       "      <td>2600</td>\n",
       "      <td>NaN</td>\n",
       "      <td>9</td>\n",
       "      <td>3000000</td>\n",
       "    </tr>\n",
       "    <tr>\n",
       "      <th>3</th>\n",
       "      <td>3000</td>\n",
       "      <td>2.0</td>\n",
       "      <td>12</td>\n",
       "      <td>3400000</td>\n",
       "    </tr>\n",
       "    <tr>\n",
       "      <th>4</th>\n",
       "      <td>2200</td>\n",
       "      <td>2.0</td>\n",
       "      <td>5</td>\n",
       "      <td>3000000</td>\n",
       "    </tr>\n",
       "    <tr>\n",
       "      <th>5</th>\n",
       "      <td>2000</td>\n",
       "      <td>3.0</td>\n",
       "      <td>6</td>\n",
       "      <td>3500000</td>\n",
       "    </tr>\n",
       "    <tr>\n",
       "      <th>6</th>\n",
       "      <td>2100</td>\n",
       "      <td>4.0</td>\n",
       "      <td>10</td>\n",
       "      <td>3600000</td>\n",
       "    </tr>\n",
       "    <tr>\n",
       "      <th>7</th>\n",
       "      <td>1800</td>\n",
       "      <td>3.0</td>\n",
       "      <td>18</td>\n",
       "      <td>250000</td>\n",
       "    </tr>\n",
       "    <tr>\n",
       "      <th>8</th>\n",
       "      <td>1500</td>\n",
       "      <td>2.0</td>\n",
       "      <td>2</td>\n",
       "      <td>250000</td>\n",
       "    </tr>\n",
       "    <tr>\n",
       "      <th>9</th>\n",
       "      <td>1600</td>\n",
       "      <td>2.0</td>\n",
       "      <td>1</td>\n",
       "      <td>120000</td>\n",
       "    </tr>\n",
       "    <tr>\n",
       "      <th>10</th>\n",
       "      <td>1700</td>\n",
       "      <td>4.0</td>\n",
       "      <td>1</td>\n",
       "      <td>150000</td>\n",
       "    </tr>\n",
       "    <tr>\n",
       "      <th>11</th>\n",
       "      <td>1300</td>\n",
       "      <td>3.0</td>\n",
       "      <td>18</td>\n",
       "      <td>100000</td>\n",
       "    </tr>\n",
       "  </tbody>\n",
       "</table>\n",
       "</div>"
      ],
      "text/plain": [
       "    Area  Bedrooms  Age    Price\n",
       "0   2000       2.0   16  2300000\n",
       "1   2500       3.0   18  3300000\n",
       "2   2600       NaN    9  3000000\n",
       "3   3000       2.0   12  3400000\n",
       "4   2200       2.0    5  3000000\n",
       "5   2000       3.0    6  3500000\n",
       "6   2100       4.0   10  3600000\n",
       "7   1800       3.0   18   250000\n",
       "8   1500       2.0    2   250000\n",
       "9   1600       2.0    1   120000\n",
       "10  1700       4.0    1   150000\n",
       "11  1300       3.0   18   100000"
      ]
     },
     "execution_count": 22,
     "metadata": {},
     "output_type": "execute_result"
    }
   ],
   "source": [
    "df"
   ]
  },
  {
   "cell_type": "code",
   "execution_count": 42,
   "id": "5ef6a565",
   "metadata": {},
   "outputs": [],
   "source": [
    "from sklearn.linear_model import LinearRegression"
   ]
  },
  {
   "cell_type": "code",
   "execution_count": 41,
   "id": "b9d8275e",
   "metadata": {},
   "outputs": [],
   "source": [
    "X=df['Area'].values#indepedent variable\n",
    "Y=np.log(df['Price'].values) #depedent variable"
   ]
  },
  {
   "cell_type": "code",
   "execution_count": 42,
   "id": "464ebb5d",
   "metadata": {},
   "outputs": [],
   "source": [
    "mean_of_x=np.mean(X)\n",
    "mean_of_y=np.mean(Y)\n",
    "n=len(X)"
   ]
  },
  {
   "cell_type": "code",
   "execution_count": 43,
   "id": "33db7655",
   "metadata": {},
   "outputs": [],
   "source": [
    "N=0\n",
    "D=0\n",
    "C=0\n",
    "M=0"
   ]
  },
  {
   "cell_type": "code",
   "execution_count": 44,
   "id": "9af546b3",
   "metadata": {},
   "outputs": [],
   "source": [
    "for i in range(n):\n",
    "    N=N+(X[i]-mean_of_x)*(Y[i]-mean_of_y)\n",
    "    D=D+(X[i]-mean_of_x)**2\n",
    "M=N/D\n",
    "C=mean_of_y-(M*mean_of_x)\n",
    "    "
   ]
  },
  {
   "cell_type": "code",
   "execution_count": 45,
   "id": "22400b74",
   "metadata": {},
   "outputs": [],
   "source": [
    "max_x=np.max(X)\n",
    "min_x=np.min(X)\n",
    "x=np.linspace(min_x, max_x, 1000)\n",
    "y=M*X+C"
   ]
  },
  {
   "cell_type": "code",
   "execution_count": 46,
   "id": "70708485",
   "metadata": {},
   "outputs": [
    {
     "data": {
      "text/plain": [
       "<matplotlib.legend.Legend at 0x7f4eba9a10a0>"
      ]
     },
     "execution_count": 46,
     "metadata": {},
     "output_type": "execute_result"
    },
    {
     "data": {
      "image/png": "[encoded data removed]",
      "text/plain": [
       "<Figure size 432x288 with 1 Axes>"
      ]
     },
     "metadata": {
      "needs_background": "light"
     },
     "output_type": "display_data"
    }
   ],
   "source": [
    "plt.plot(X,y,label='Regression Line')\n",
    "plt.scatter(X,Y)\n",
    "plt.xlabel('Area')\n",
    "plt.ylabel('Price')\n",
    "plt.legend()"
   ]
  },
  {
   "cell_type": "markdown",
   "id": "0cb4bc27",
   "metadata": {},
   "source": [
    "<h3>2. Logistic Regression </h3>"
   ]
  },
  {
   "cell_type": "markdown",
   "id": "922c250a",
   "metadata": {},
   "source": [
    "<ul>\n",
    "    <li>This used when dependent variable is discrete </li>\n",
    "    <li>Mean Target has only two values</li>\n",
    "    <li>Logit function is used in Logistic Regression to measure the relationship between the target variable and independent variables</li>\n",
    "    <li>Equation that denotes the logistic regression $logit(p) = ln(\\frac{p}{(1-p)}) = b_0+b_1X_1+b_2X_2+b_3X_3.....+b_kX_k$</li>\n",
    "    </ul>\n",
    "        \n",
    "where $p$ is the probability of occurrence of the feature."
   ]
  },
  {
   "cell_type": "markdown",
   "id": "78ba6cee",
   "metadata": {},
   "source": [
    "<h3> Types of the Logistic Regression</h3>"
   ]
  },
  {
   "cell_type": "markdown",
   "id": "e1704575",
   "metadata": {},
   "source": [
    "1. <b>Binary Logistic Regression</b>: The target variable has only two possible outcomes such as Spam or Not Spam, Cancer or No Cancer.\n",
    "2. <b>Multinomial Logistic Regression</b>: The target variable has three or more nominal categories such as predicting the type of Wine.\n",
    "3. <b>Ordinal Logistic Regression</b>: the target variable has three or more ordinal categories"
   ]
  },
  {
   "cell_type": "code",
   "execution_count": 47,
   "id": "46b72184",
   "metadata": {},
   "outputs": [],
   "source": [
    "import numpy as np\n",
    "import seaborn as snb\n",
    "import matplotlib.pyplot as plt\n",
    "import pandas as pd"
   ]
  },
  {
   "cell_type": "code",
   "execution_count": 2,
   "id": "07ba573d",
   "metadata": {},
   "outputs": [],
   "source": [
    "df=pd.read_csv('/home/lucina/Documents/Datasets/Indian Diabetes Dataset/diabetes.csv')"
   ]
  },
  {
   "cell_type": "code",
   "execution_count": 3,
   "id": "1872ca9e",
   "metadata": {},
   "outputs": [
    {
     "data": {
      "text/html": [
       "<div>\n",
       "<style scoped>\n",
       "    .dataframe tbody tr th:only-of-type {\n",
       "        vertical-align: middle;\n",
       "    }\n",
       "\n",
       "    .dataframe tbody tr th {\n",
       "        vertical-align: top;\n",
       "    }\n",
       "\n",
       "    .dataframe thead th {\n",
       "        text-align: right;\n",
       "    }\n",
       "</style>\n",
       "<table border=\"1\" class=\"dataframe\">\n",
       "  <thead>\n",
       "    <tr style=\"text-align: right;\">\n",
       "      <th></th>\n",
       "      <th>Pregnancies</th>\n",
       "      <th>Glucose</th>\n",
       "      <th>BloodPressure</th>\n",
       "      <th>SkinThickness</th>\n",
       "      <th>Insulin</th>\n",
       "      <th>BMI</th>\n",
       "      <th>DiabetesPedigreeFunction</th>\n",
       "      <th>Age</th>\n",
       "      <th>Outcome</th>\n",
       "    </tr>\n",
       "  </thead>\n",
       "  <tbody>\n",
       "    <tr>\n",
       "      <th>0</th>\n",
       "      <td>6</td>\n",
       "      <td>148</td>\n",
       "      <td>72</td>\n",
       "      <td>35</td>\n",
       "      <td>0</td>\n",
       "      <td>33.6</td>\n",
       "      <td>0.627</td>\n",
       "      <td>50</td>\n",
       "      <td>1</td>\n",
       "    </tr>\n",
       "    <tr>\n",
       "      <th>1</th>\n",
       "      <td>1</td>\n",
       "      <td>85</td>\n",
       "      <td>66</td>\n",
       "      <td>29</td>\n",
       "      <td>0</td>\n",
       "      <td>26.6</td>\n",
       "      <td>0.351</td>\n",
       "      <td>31</td>\n",
       "      <td>0</td>\n",
       "    </tr>\n",
       "    <tr>\n",
       "      <th>2</th>\n",
       "      <td>8</td>\n",
       "      <td>183</td>\n",
       "      <td>64</td>\n",
       "      <td>0</td>\n",
       "      <td>0</td>\n",
       "      <td>23.3</td>\n",
       "      <td>0.672</td>\n",
       "      <td>32</td>\n",
       "      <td>1</td>\n",
       "    </tr>\n",
       "    <tr>\n",
       "      <th>3</th>\n",
       "      <td>1</td>\n",
       "      <td>89</td>\n",
       "      <td>66</td>\n",
       "      <td>23</td>\n",
       "      <td>94</td>\n",
       "      <td>28.1</td>\n",
       "      <td>0.167</td>\n",
       "      <td>21</td>\n",
       "      <td>0</td>\n",
       "    </tr>\n",
       "    <tr>\n",
       "      <th>4</th>\n",
       "      <td>0</td>\n",
       "      <td>137</td>\n",
       "      <td>40</td>\n",
       "      <td>35</td>\n",
       "      <td>168</td>\n",
       "      <td>43.1</td>\n",
       "      <td>2.288</td>\n",
       "      <td>33</td>\n",
       "      <td>1</td>\n",
       "    </tr>\n",
       "  </tbody>\n",
       "</table>\n",
       "</div>"
      ],
      "text/plain": [
       "   Pregnancies  Glucose  BloodPressure  SkinThickness  Insulin   BMI  \\\n",
       "0            6      148             72             35        0  33.6   \n",
       "1            1       85             66             29        0  26.6   \n",
       "2            8      183             64              0        0  23.3   \n",
       "3            1       89             66             23       94  28.1   \n",
       "4            0      137             40             35      168  43.1   \n",
       "\n",
       "   DiabetesPedigreeFunction  Age  Outcome  \n",
       "0                     0.627   50        1  \n",
       "1                     0.351   31        0  \n",
       "2                     0.672   32        1  \n",
       "3                     0.167   21        0  \n",
       "4                     2.288   33        1  "
      ]
     },
     "execution_count": 3,
     "metadata": {},
     "output_type": "execute_result"
    }
   ],
   "source": [
    "df.head()"
   ]
  },
  {
   "cell_type": "code",
   "execution_count": 4,
   "id": "7b0b68ee",
   "metadata": {},
   "outputs": [],
   "source": [
    "features=['Pregnancies','Glucose','BloodPressure','SkinThickness','Insulin','BMI','DiabetesPedigreeFunction','Age']"
   ]
  },
  {
   "cell_type": "code",
   "execution_count": 5,
   "id": "cd15708a",
   "metadata": {},
   "outputs": [],
   "source": [
    "X=df[features]"
   ]
  },
  {
   "cell_type": "code",
   "execution_count": 6,
   "id": "54af2458",
   "metadata": {},
   "outputs": [],
   "source": [
    "Y=df['Outcome']"
   ]
  },
  {
   "cell_type": "code",
   "execution_count": 7,
   "id": "815a8b90",
   "metadata": {},
   "outputs": [
    {
     "data": {
      "text/plain": [
       "(6144, 768)"
      ]
     },
     "execution_count": 7,
     "metadata": {},
     "output_type": "execute_result"
    }
   ],
   "source": [
    "X.size, Y.size"
   ]
  },
  {
   "cell_type": "code",
   "execution_count": 8,
   "id": "88c4b4e1",
   "metadata": {},
   "outputs": [],
   "source": [
    "from sklearn.model_selection import train_test_split"
   ]
  },
  {
   "cell_type": "code",
   "execution_count": 10,
   "id": "0ea77a80",
   "metadata": {},
   "outputs": [],
   "source": [
    "X_train,X_test,y_train,y_test=train_test_split(X,Y,test_size=0.25,random_state=0)"
   ]
  },
  {
   "cell_type": "code",
   "execution_count": 11,
   "id": "9c0d430b",
   "metadata": {},
   "outputs": [],
   "source": [
    "from sklearn.linear_model import LogisticRegression"
   ]
  },
  {
   "cell_type": "code",
   "execution_count": 12,
   "id": "58c0926c",
   "metadata": {},
   "outputs": [],
   "source": [
    "logreg = LogisticRegression()\n"
   ]
  },
  {
   "cell_type": "code",
   "execution_count": 13,
   "id": "eeeb3498",
   "metadata": {},
   "outputs": [
    {
     "name": "stderr",
     "output_type": "stream",
     "text": [
      "/home/lucina/anaconda3/lib/python3.8/site-packages/sklearn/linear_model/_logistic.py:763: ConvergenceWarning: lbfgs failed to converge (status=1):\n",
      "STOP: TOTAL NO. of ITERATIONS REACHED LIMIT.\n",
      "\n",
      "Increase the number of iterations (max_iter) or scale the data as shown in:\n",
      "    https://scikit-learn.org/stable/modules/preprocessing.html\n",
      "Please also refer to the documentation for alternative solver options:\n",
      "    https://scikit-learn.org/stable/modules/linear_model.html#logistic-regression\n",
      "  n_iter_i = _check_optimize_result(\n"
     ]
    },
    {
     "data": {
      "text/plain": [
       "LogisticRegression()"
      ]
     },
     "execution_count": 13,
     "metadata": {},
     "output_type": "execute_result"
    }
   ],
   "source": [
    "logreg.fit(X,Y)\n"
   ]
  },
  {
   "cell_type": "code",
   "execution_count": 15,
   "id": "903b6328",
   "metadata": {},
   "outputs": [
    {
     "name": "stdout",
     "output_type": "stream",
     "text": [
      "Optimization terminated successfully.\n",
      "         Current function value: 0.608498\n",
      "         Iterations 5\n",
      "                             Results: Logit\n",
      "========================================================================\n",
      "Model:                 Logit              Pseudo R-squared:   0.059     \n",
      "Dependent Variable:    Outcome            AIC:                950.6528  \n",
      "Date:                  2021-10-05 15:41   BIC:                987.8031  \n",
      "No. Observations:      768                Log-Likelihood:     -467.33   \n",
      "Df Model:              7                  LL-Null:            -496.74   \n",
      "Df Residuals:          760                LLR p-value:        2.5825e-10\n",
      "Converged:             1.0000             Scale:              1.0000    \n",
      "No. Iterations:        5.0000                                           \n",
      "------------------------------------------------------------------------\n",
      "                          Coef.  Std.Err.    z    P>|z|   [0.025  0.975]\n",
      "------------------------------------------------------------------------\n",
      "Pregnancies               0.1284   0.0286  4.4843 0.0000  0.0723  0.1845\n",
      "Glucose                   0.0129   0.0027  4.7568 0.0000  0.0076  0.0183\n",
      "BloodPressure            -0.0303   0.0047 -6.4806 0.0000 -0.0395 -0.0212\n",
      "SkinThickness             0.0002   0.0061  0.0323 0.9742 -0.0117  0.0121\n",
      "Insulin                   0.0007   0.0008  0.9420 0.3462 -0.0008  0.0023\n",
      "BMI                      -0.0048   0.0107 -0.4494 0.6531 -0.0258  0.0162\n",
      "DiabetesPedigreeFunction  0.3203   0.2399  1.3351 0.1818 -0.1499  0.7905\n",
      "Age                      -0.0156   0.0084 -1.8517 0.0641 -0.0322  0.0009\n",
      "========================================================================\n",
      "\n"
     ]
    }
   ],
   "source": [
    "import statsmodels.api as sm\n",
    "logit_model=sm.Logit(Y,X)\n",
    "result=logit_model.fit()\n",
    "print(result.summary2())"
   ]
  },
  {
   "cell_type": "code",
   "execution_count": 16,
   "id": "9d2bdadb",
   "metadata": {},
   "outputs": [
    {
     "name": "stdout",
     "output_type": "stream",
     "text": [
      "Accuracy of logistic regression classifier on test set: 0.81\n"
     ]
    }
   ],
   "source": [
    "y_pred = logreg.predict(X_test)\n",
    "print('Accuracy of logistic regression classifier on test set: {:.2f}'.format(logreg.score(X_test, y_test)))"
   ]
  },
  {
   "cell_type": "code",
   "execution_count": 17,
   "id": "a0377941",
   "metadata": {},
   "outputs": [
    {
     "name": "stdout",
     "output_type": "stream",
     "text": [
      "[[119  11]\n",
      " [ 25  37]]\n"
     ]
    }
   ],
   "source": [
    "from sklearn.metrics import confusion_matrix\n",
    "confusion_matrix = confusion_matrix(y_test, y_pred)\n",
    "print(confusion_matrix)"
   ]
  },
  {
   "cell_type": "markdown",
   "id": "3047f5b9",
   "metadata": {},
   "source": [
    "p-prbability "
   ]
  },
  {
   "cell_type": "markdown",
   "id": "2f750eb8",
   "metadata": {},
   "source": [
    "$$\n",
    "\\frac{p}{1-p}\n",
    "$$"
   ]
  },
  {
   "cell_type": "markdown",
   "id": "38bd876f",
   "metadata": {},
   "source": [
    "This formula will give you odd "
   ]
  },
  {
   "cell_type": "markdown",
   "id": "d3283bbf",
   "metadata": {},
   "source": [
    "If we take a log of odd then it becomes log-odd "
   ]
  },
  {
   "cell_type": "markdown",
   "id": "b467b833",
   "metadata": {},
   "source": [
    "purpose of this one is understand the the clear distinction between two classes "
   ]
  },
  {
   "cell_type": "markdown",
   "id": "57306248",
   "metadata": {},
   "source": [
    "$$\n",
    "\\log{\\frac{p}{1-p}}\n",
    "$$"
   ]
  },
  {
   "cell_type": "code",
   "execution_count": null,
   "id": "afbdd6e8",
   "metadata": {},
   "outputs": [],
   "source": []
  },
  {
   "cell_type": "markdown",
   "id": "ea036fa5",
   "metadata": {},
   "source": [
    "<center><h1>UNIT-II Classification</h1></center>"
   ]
  },
  {
   "cell_type": "markdown",
   "id": "5489e267",
   "metadata": {},
   "source": [
    "Support Vector Machine classification algorithm, hyper plane, optimal separating hyperplanes , kernel functions, kernel selection, applications, Introduction to ensemble and its techniques, Bagging and Bootstrap ensemble methods, Introduction to random forest, growing of random forest, random feature selection"
   ]
  },
  {
   "cell_type": "markdown",
   "id": "985289f7",
   "metadata": {},
   "source": [
    "<h2>Support Vector Machine classification algorithm</h2>"
   ]
  },
  {
   "cell_type": "markdown",
   "id": "288a6486",
   "metadata": {},
   "source": [
    "- It is supervised machine learning algorithm\n",
    "- Can be used for classification and regression\n",
    "- In SVM each data item is plotted as a point in n dimensional space(n represents number of features) "
   ]
  },
  {
   "attachments": {
    "SVM_1.png": {
     "image/png": "[encoded data removed]"
    }
   },
   "cell_type": "markdown",
   "id": "449d2070",
   "metadata": {},
   "source": [
    "![SVM_1.png](attachment:SVM_1.png)"
   ]
  },
  {
   "cell_type": "markdown",
   "id": "554d84c9",
   "metadata": {},
   "source": [
    "-How it Works- identifying right hyper plane"
   ]
  },
  {
   "attachments": {
    "SVM_21.webp": {
     "image/webp": "[encoded data removed]"
    }
   },
   "cell_type": "markdown",
   "id": "549e244a",
   "metadata": {},
   "source": [
    "![SVM_21.webp](attachment:SVM_21.webp)"
   ]
  },
  {
   "cell_type": "markdown",
   "id": "ddf6989c",
   "metadata": {},
   "source": [
    "-How to select right Hyper Plane"
   ]
  },
  {
   "cell_type": "markdown",
   "id": "47e60cad",
   "metadata": {},
   "source": [
    "A plane clearly separates the data points"
   ]
  },
  {
   "attachments": {
    "SVM_3.webp": {
     "image/webp": "[encoded data removed]"
    }
   },
   "cell_type": "markdown",
   "id": "83f84695",
   "metadata": {},
   "source": [
    "![SVM_3.webp](attachment:SVM_3.webp)"
   ]
  },
  {
   "cell_type": "markdown",
   "id": "edcd9e87",
   "metadata": {},
   "source": [
    "- In this example selection of the hyper plane depends on the Margin distance"
   ]
  },
  {
   "cell_type": "markdown",
   "id": "64d6c20d",
   "metadata": {},
   "source": [
    "<h3> Basics of Vector</h3>"
   ]
  },
  {
   "cell_type": "markdown",
   "id": "28fcd907",
   "metadata": {},
   "source": [
    "- Vectors are mathematical quantity with, both magnitude and direction\n",
    "- A point in the 2D plane can be represented as a vector between origin and the point\n",
    "- Length of the vector also called as norm is represented as $\\|x\\|=\\sqrt{x_1^2+x_2^2+x_3^2}$ for some point $x(x_1, x_2, x_3)$\n",
    "- Direction of the vector $x(x_1, x_2, x_3)$ is calculated as $\\{\\frac{x_1}{\\|x\\|}, \\frac{x_2}{\\|x\\|}, \\frac{x_3}{\\|x\\|}\\}$"
   ]
  },
  {
   "cell_type": "markdown",
   "id": "17b5e439",
   "metadata": {},
   "source": [
    "### SVM Kernels"
   ]
  },
  {
   "cell_type": "markdown",
   "id": "cf5406be",
   "metadata": {},
   "source": [
    "1. Linear\n",
    "2. Polynomial Kernel\n",
    "3. Radial Basis Function"
   ]
  },
  {
   "cell_type": "markdown",
   "id": "2d261d4c",
   "metadata": {},
   "source": [
    "- SVM is implemented in practice with kernels\n",
    "- Kernel transforms the the low dimensional input to higher dimensional space\n",
    "- Most useful in non linear separation problems"
   ]
  },
  {
   "cell_type": "markdown",
   "id": "e12a521a",
   "metadata": {},
   "source": [
    "<b>Linear Kernel</b> A linear kernel can be used as normal dot product any two given observations. The product between two vectors is the sum of the multiplication of each pair of input values.\n"
   ]
  },
  {
   "cell_type": "markdown",
   "id": "77e82690",
   "metadata": {},
   "source": [
    "$K(x, x_i) = sum(x * x_i)$"
   ]
  },
  {
   "cell_type": "markdown",
   "id": "75385ff4",
   "metadata": {},
   "source": [
    "<b>Polynomial Kernel</b> A polynomial kernel is a more generalized form of the linear kernel. The polynomial kernel can distinguish curved or nonlinear input space"
   ]
  },
  {
   "cell_type": "markdown",
   "id": "d1fcb9d3",
   "metadata": {},
   "source": [
    "$K(x,x_i) = 1 + sum(x * x_i)^d$"
   ]
  },
  {
   "cell_type": "markdown",
   "id": "fa0ce351",
   "metadata": {},
   "source": [
    "<b>Radial Basis Function Kernel</b> The Radial basis function kernel is a popular kernel function commonly used in support vector machine classification. RBF can map an input space in infinite dimensional space"
   ]
  },
  {
   "cell_type": "markdown",
   "id": "54deb0a5",
   "metadata": {},
   "source": [
    "$K(x,xi) = \\exp(-gamma * sum((x – x_i^2))$"
   ]
  },
  {
   "cell_type": "markdown",
   "id": "e4549ab9",
   "metadata": {},
   "source": [
    "Here gamma is a parameter, which ranges from 0 to 1. A higher value of gamma will perfectly fit the training dataset, which causes over-fitting. Gamma=0.1 is considered to be a good default value. The value of gamma needs to be manually specified in the learning algorithm."
   ]
  },
  {
   "cell_type": "code",
   "execution_count": 46,
   "id": "4b5082e5",
   "metadata": {},
   "outputs": [],
   "source": [
    "from sklearn import datasets"
   ]
  },
  {
   "cell_type": "code",
   "execution_count": 47,
   "id": "6563a49c",
   "metadata": {},
   "outputs": [],
   "source": [
    "df = datasets.load_breast_cancer()"
   ]
  },
  {
   "cell_type": "code",
   "execution_count": 48,
   "id": "2c59f8bf",
   "metadata": {},
   "outputs": [],
   "source": [
    "from sklearn.model_selection import train_test_split"
   ]
  },
  {
   "cell_type": "code",
   "execution_count": 49,
   "id": "27a64a21",
   "metadata": {},
   "outputs": [],
   "source": [
    "X_train, X_test, y_train, y_test = train_test_split(df.data, df.target, test_size=0.3,random_state=109) # 70% training and 30% test"
   ]
  },
  {
   "cell_type": "code",
   "execution_count": 50,
   "id": "33027dc0",
   "metadata": {},
   "outputs": [],
   "source": [
    "from sklearn import svm\n"
   ]
  },
  {
   "cell_type": "code",
   "execution_count": 58,
   "id": "4d81c295",
   "metadata": {},
   "outputs": [],
   "source": [
    "clf = svm.SVC(kernel='rbf') \n",
    "clf.fit(X_train, y_train)\n",
    "y_pred = clf.predict(X_test)"
   ]
  },
  {
   "cell_type": "code",
   "execution_count": 60,
   "id": "384b3cfd",
   "metadata": {},
   "outputs": [
    {
     "name": "stdout",
     "output_type": "stream",
     "text": [
      "Accuracy: 0.9239766081871345\n"
     ]
    }
   ],
   "source": [
    "from sklearn import metrics\n",
    "print(\"Accuracy:\",metrics.accuracy_score(y_test, y_pred))"
   ]
  },
  {
   "cell_type": "code",
   "execution_count": 61,
   "id": "a36e2a58",
   "metadata": {},
   "outputs": [
    {
     "name": "stdout",
     "output_type": "stream",
     "text": [
      "Precision: 0.8925619834710744\n"
     ]
    }
   ],
   "source": [
    "print(\"Precision:\",metrics.precision_score(y_test, y_pred))"
   ]
  },
  {
   "cell_type": "code",
   "execution_count": 57,
   "id": "1a50128f",
   "metadata": {},
   "outputs": [
    {
     "name": "stdout",
     "output_type": "stream",
     "text": [
      "Recall: 1.0\n"
     ]
    }
   ],
   "source": [
    "print(\"Recall:\",metrics.recall_score(y_test, y_pred))"
   ]
  },
  {
   "cell_type": "code",
   "execution_count": 32,
   "id": "db6b0ac2",
   "metadata": {},
   "outputs": [
    {
     "data": {
      "image/png": "[encoded data removed]",
      "text/plain": [
       "<Figure size 432x288 with 1 Axes>"
      ]
     },
     "metadata": {
      "needs_background": "light"
     },
     "output_type": "display_data"
    }
   ],
   "source": [
    "from sklearn.svm import SVC\n",
    "import numpy as np\n",
    "import matplotlib.pyplot as plt\n",
    "from sklearn import svm, datasets\n",
    "from mpl_toolkits.mplot3d import Axes3D\n",
    "\n",
    "df = datasets.load_breast_cancer()\n",
    "X = df.data[:, :20]  \n",
    "Y = df.target\n",
    "\n",
    "X = X[np.logical_or(Y==0,Y==1)]\n",
    "Y = Y[np.logical_or(Y==0,Y==1)]\n",
    "\n",
    "model = svm.SVC(kernel='linear')\n",
    "clf = model.fit(X, Y)\n",
    "\n",
    "\n",
    "z = lambda x,y: (-clf.intercept_[0]-clf.coef_[0][0]*x -clf.coef_[0][1]*y) / clf.coef_[0][2]\n",
    "\n",
    "tmp = np.linspace(-5,5,30)\n",
    "x,y = np.meshgrid(tmp,tmp)\n",
    "\n",
    "fig = plt.figure()\n",
    "ax  = fig.add_subplot(111, projection='3d')\n",
    "ax.plot3D(X[Y==0,0], X[Y==0,1], X[Y==0,2],'ob')\n",
    "ax.plot3D(X[Y==1,0], X[Y==1,1], X[Y==1,2],'sr')\n",
    "ax.plot_surface(x, y, z(x,y))\n",
    "ax.view_init(30, 60)\n",
    "plt.show()"
   ]
  },
  {
   "cell_type": "markdown",
   "id": "1148393b",
   "metadata": {},
   "source": [
    "### Bagging and Boosting"
   ]
  },
  {
   "cell_type": "markdown",
   "id": "1a901d56",
   "metadata": {},
   "source": [
    "<b>Bias error</b> is useful to quantify how much on an average are the predicted values different from the actual value. A high bias error means we have an under-performing model which keeps on missing essential trends"
   ]
  },
  {
   "cell_type": "markdown",
   "id": "ebd88407",
   "metadata": {},
   "source": [
    "<b>Variance</b> on the other side quantifies how are the prediction made on the same observation different from each other. A high variance model will over-fit on your training population and perform poorly on any observation beyond training"
   ]
  },
  {
   "cell_type": "code",
   "execution_count": 39,
   "id": "47fcaba7",
   "metadata": {},
   "outputs": [],
   "source": [
    "import pandas as pd\n",
    "import numpy as np\n",
    "from sklearn.preprocessing import MinMaxScaler"
   ]
  },
  {
   "cell_type": "markdown",
   "id": "e7514b60",
   "metadata": {},
   "source": [
    "## Clustering Methods "
   ]
  },
  {
   "cell_type": "code",
   "execution_count": 36,
   "id": "cb431c28",
   "metadata": {},
   "outputs": [
    {
     "name": "stdout",
     "output_type": "stream",
     "text": [
      "The scikit-learn version is 0.24.1.\n"
     ]
    }
   ],
   "source": [
    "import sklearn\n",
    "print('The scikit-learn version is {}.'.format(sklearn.__version__))\n"
   ]
  },
  {
   "cell_type": "code",
   "execution_count": 37,
   "id": "d435e4ee",
   "metadata": {},
   "outputs": [],
   "source": [
    "from sklearn.impute import SimpleImputer"
   ]
  },
  {
   "cell_type": "code",
   "execution_count": 38,
   "id": "7bc8a6cf",
   "metadata": {},
   "outputs": [],
   "source": [
    "imputer = SimpleImputer(missing_values=np.nan, strategy='mean')"
   ]
  },
  {
   "cell_type": "code",
   "execution_count": 41,
   "id": "69a8d768",
   "metadata": {},
   "outputs": [
    {
     "data": {
      "text/html": [
       "<div>\n",
       "<style scoped>\n",
       "    .dataframe tbody tr th:only-of-type {\n",
       "        vertical-align: middle;\n",
       "    }\n",
       "\n",
       "    .dataframe tbody tr th {\n",
       "        vertical-align: top;\n",
       "    }\n",
       "\n",
       "    .dataframe thead th {\n",
       "        text-align: right;\n",
       "    }\n",
       "</style>\n",
       "<table border=\"1\" class=\"dataframe\">\n",
       "  <thead>\n",
       "    <tr style=\"text-align: right;\">\n",
       "      <th></th>\n",
       "      <th>Id</th>\n",
       "      <th>SepalLengthCm</th>\n",
       "      <th>SepalWidthCm</th>\n",
       "      <th>PetalLengthCm</th>\n",
       "      <th>PetalWidthCm</th>\n",
       "      <th>Species</th>\n",
       "    </tr>\n",
       "  </thead>\n",
       "  <tbody>\n",
       "    <tr>\n",
       "      <th>0</th>\n",
       "      <td>1</td>\n",
       "      <td>5.1</td>\n",
       "      <td>3.5</td>\n",
       "      <td>1.4</td>\n",
       "      <td>0.2</td>\n",
       "      <td>Iris-setosa</td>\n",
       "    </tr>\n",
       "    <tr>\n",
       "      <th>1</th>\n",
       "      <td>2</td>\n",
       "      <td>4.9</td>\n",
       "      <td>3.0</td>\n",
       "      <td>1.4</td>\n",
       "      <td>0.2</td>\n",
       "      <td>Iris-setosa</td>\n",
       "    </tr>\n",
       "    <tr>\n",
       "      <th>2</th>\n",
       "      <td>3</td>\n",
       "      <td>4.7</td>\n",
       "      <td>3.2</td>\n",
       "      <td>1.3</td>\n",
       "      <td>0.2</td>\n",
       "      <td>Iris-setosa</td>\n",
       "    </tr>\n",
       "    <tr>\n",
       "      <th>3</th>\n",
       "      <td>4</td>\n",
       "      <td>4.6</td>\n",
       "      <td>3.1</td>\n",
       "      <td>1.5</td>\n",
       "      <td>0.2</td>\n",
       "      <td>Iris-setosa</td>\n",
       "    </tr>\n",
       "    <tr>\n",
       "      <th>4</th>\n",
       "      <td>5</td>\n",
       "      <td>5.0</td>\n",
       "      <td>3.6</td>\n",
       "      <td>1.4</td>\n",
       "      <td>0.2</td>\n",
       "      <td>Iris-setosa</td>\n",
       "    </tr>\n",
       "  </tbody>\n",
       "</table>\n",
       "</div>"
      ],
      "text/plain": [
       "   Id  SepalLengthCm  SepalWidthCm  PetalLengthCm  PetalWidthCm      Species\n",
       "0   1            5.1           3.5            1.4           0.2  Iris-setosa\n",
       "1   2            4.9           3.0            1.4           0.2  Iris-setosa\n",
       "2   3            4.7           3.2            1.3           0.2  Iris-setosa\n",
       "3   4            4.6           3.1            1.5           0.2  Iris-setosa\n",
       "4   5            5.0           3.6            1.4           0.2  Iris-setosa"
      ]
     },
     "execution_count": 41,
     "metadata": {},
     "output_type": "execute_result"
    }
   ],
   "source": [
    "data = pd.read_csv('/home/lucina/Documents/Datasets/Iris/Iris.csv')\n",
    "data.head()"
   ]
  },
  {
   "cell_type": "code",
   "execution_count": null,
   "id": "cff0e094",
   "metadata": {},
   "outputs": [],
   "source": []
  }
 ],
 "metadata": {
  "kernelspec": {
   "display_name": "Python 3",
   "language": "python",
   "name": "python3"
  },
  "language_info": {
   "codemirror_mode": {
    "name": "ipython",
    "version": 3
   },
   "file_extension": ".py",
   "mimetype": "text/x-python",
   "name": "python",
   "nbconvert_exporter": "python",
   "pygments_lexer": "ipython3",
   "version": "3.8.8"
  }
 },
 "nbformat": 4,
 "nbformat_minor": 5
}
